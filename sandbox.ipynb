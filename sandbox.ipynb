{
 "cells": [
  {
   "cell_type": "markdown",
   "metadata": {},
   "source": [
    "# Data exploration"
   ]
  },
  {
   "cell_type": "markdown",
   "metadata": {},
   "source": [
    "## Imports"
   ]
  },
  {
   "cell_type": "code",
   "execution_count": 1,
   "metadata": {},
   "outputs": [],
   "source": [
    "import os\n",
    "import pandas as pd"
   ]
  },
  {
   "cell_type": "markdown",
   "metadata": {},
   "source": [
    "## Simplifying the `status.csv` data"
   ]
  },
  {
   "cell_type": "code",
   "execution_count": null,
   "metadata": {},
   "outputs": [],
   "source": [
    "status_file = lambda f: os.path.join(\"data/status\", f)\n",
    "status_blocks = sorted(os.listdir(\"data/status\"))"
   ]
  },
  {
   "cell_type": "code",
   "execution_count": null,
   "metadata": {},
   "outputs": [],
   "source": [
    "status_0 = pd.read_csv(status_file(status_blocks[0]), header=0)"
   ]
  },
  {
   "cell_type": "code",
   "execution_count": null,
   "metadata": {},
   "outputs": [],
   "source": [
    "status_0[\"date\"] = status_0[\"time\"].map(lambda v: v.split(\" \")[0])"
   ]
  },
  {
   "cell_type": "code",
   "execution_count": null,
   "metadata": {},
   "outputs": [],
   "source": [
    "status_0.drop(\"time\", axis=1).groupby([\"station_id\", \"date\"]).agg([\"sum\", \"size\"]).reset_index()"
   ]
  },
  {
   "cell_type": "code",
   "execution_count": null,
   "metadata": {},
   "outputs": [],
   "source": [
    "from itertools import pairwise\n",
    "\n",
    "columns = status_0.columns"
   ]
  },
  {
   "cell_type": "code",
   "execution_count": null,
   "metadata": {},
   "outputs": [],
   "source": [
    "status = pd.DataFrame([], columns=[\"station_id\", \"date\", \"bikes_available_sum\", \"bikes_available_size\", \"docks_available_sum\", \"docks_available_size\"])\n",
    "n_blocks_per_read = 100\n",
    "\n",
    "parts = []\n",
    "for span_begin, span_end in pairwise(range(0, len(status_blocks) + n_blocks_per_read, n_blocks_per_read)):\n",
    "    print(f\"Concatenating blocks {span_begin:4}-{span_end:4} | Total rows: {status.shape[0]:>6}\", end=\"\\r\")\n",
    "    tmp = pd.concat(\n",
    "        [\n",
    "            # The first file \"xaa\" has a header, we can just skip it since we already know it\n",
    "            pd.read_csv(status_file(f), names=columns, skiprows=1 if f == \"xaa\" else 0)\n",
    "            for f in status_blocks[span_begin:span_end]\n",
    "        ],\n",
    "        axis=0,\n",
    "        ignore_index=True\n",
    "    )\n",
    "\n",
    "    tmp[\"date\"] = tmp[\"time\"].map(lambda v: v.split(\" \")[0])\n",
    "    tmp = (tmp\n",
    "        .drop(\"time\", axis=1)\n",
    "        .groupby([\"station_id\", \"date\"])\n",
    "        # We have to aggregate each part with the sum\n",
    "        # (and number of values of that sum) because each block\n",
    "        # may not have all the data for each day-station pair,\n",
    "        # so we can't just do the mean yet\n",
    "        .agg([\"sum\", \"size\"])\n",
    "        .reset_index()\n",
    "    )\n",
    "    tmp.columns = tmp.columns.to_flat_index()\n",
    "    tmp.rename(inplace=True, columns={\n",
    "        (\"station_id\", \"\"): \"station_id\",\n",
    "        (\"date\", \"\"): \"date\",\n",
    "        (\"bikes_available\", \"sum\"): \"bikes_available_sum\",\n",
    "        (\"bikes_available\", \"size\"): \"bikes_available_size\",\n",
    "        (\"docks_available\", \"sum\"): \"docks_available_sum\",\n",
    "        (\"docks_available\", \"size\"): \"docks_available_size\",\n",
    "    })\n",
    "\n",
    "    status = pd.concat([status, tmp], axis=0, ignore_index=True)"
   ]
  },
  {
   "cell_type": "code",
   "execution_count": null,
   "metadata": {},
   "outputs": [],
   "source": [
    "status[\"bikes_available_avg\"] = status[\"bikes_available_sum\"] / status[\"bikes_available_size\"]\n",
    "status[\"docks_available_avg\"] = status[\"docks_available_sum\"] / status[\"docks_available_size\"]\n",
    "status.drop(inplace=True, columns=[\"bikes_available_sum\", \"bikes_available_size\", \"docks_available_sum\", \"docks_available_size\"])"
   ]
  },
  {
   "cell_type": "code",
   "execution_count": null,
   "metadata": {},
   "outputs": [],
   "source": [
    "status.to_csv(\"data/status_small.csv\", index=False)"
   ]
  },
  {
   "cell_type": "markdown",
   "metadata": {},
   "source": [
    "## Simplifying the `trips.csv`"
   ]
  },
  {
   "cell_type": "code",
   "execution_count": null,
   "metadata": {},
   "outputs": [],
   "source": [
    "trip = pd.read_csv(\"data/trip.csv\")"
   ]
  },
  {
   "cell_type": "code",
   "execution_count": 5,
   "metadata": {},
   "outputs": [
    {
     "data": {
      "text/html": [
       "<div>\n",
       "<style scoped>\n",
       "    .dataframe tbody tr th:only-of-type {\n",
       "        vertical-align: middle;\n",
       "    }\n",
       "\n",
       "    .dataframe tbody tr th {\n",
       "        vertical-align: top;\n",
       "    }\n",
       "\n",
       "    .dataframe thead th {\n",
       "        text-align: right;\n",
       "    }\n",
       "</style>\n",
       "<table border=\"1\" class=\"dataframe\">\n",
       "  <thead>\n",
       "    <tr style=\"text-align: right;\">\n",
       "      <th></th>\n",
       "      <th>id</th>\n",
       "      <th>duration</th>\n",
       "      <th>start_date</th>\n",
       "      <th>start_station_name</th>\n",
       "      <th>start_station_id</th>\n",
       "      <th>end_date</th>\n",
       "      <th>end_station_name</th>\n",
       "      <th>end_station_id</th>\n",
       "      <th>bike_id</th>\n",
       "      <th>subscription_type</th>\n",
       "      <th>zip_code</th>\n",
       "    </tr>\n",
       "  </thead>\n",
       "  <tbody>\n",
       "    <tr>\n",
       "      <th>0</th>\n",
       "      <td>4576</td>\n",
       "      <td>63</td>\n",
       "      <td>8/29/2013 14:13</td>\n",
       "      <td>South Van Ness at Market</td>\n",
       "      <td>66</td>\n",
       "      <td>8/29/2013 14:14</td>\n",
       "      <td>South Van Ness at Market</td>\n",
       "      <td>66</td>\n",
       "      <td>520</td>\n",
       "      <td>Subscriber</td>\n",
       "      <td>94127</td>\n",
       "    </tr>\n",
       "    <tr>\n",
       "      <th>1</th>\n",
       "      <td>4607</td>\n",
       "      <td>70</td>\n",
       "      <td>8/29/2013 14:42</td>\n",
       "      <td>San Jose City Hall</td>\n",
       "      <td>10</td>\n",
       "      <td>8/29/2013 14:43</td>\n",
       "      <td>San Jose City Hall</td>\n",
       "      <td>10</td>\n",
       "      <td>661</td>\n",
       "      <td>Subscriber</td>\n",
       "      <td>95138</td>\n",
       "    </tr>\n",
       "    <tr>\n",
       "      <th>2</th>\n",
       "      <td>4130</td>\n",
       "      <td>71</td>\n",
       "      <td>8/29/2013 10:16</td>\n",
       "      <td>Mountain View City Hall</td>\n",
       "      <td>27</td>\n",
       "      <td>8/29/2013 10:17</td>\n",
       "      <td>Mountain View City Hall</td>\n",
       "      <td>27</td>\n",
       "      <td>48</td>\n",
       "      <td>Subscriber</td>\n",
       "      <td>97214</td>\n",
       "    </tr>\n",
       "    <tr>\n",
       "      <th>3</th>\n",
       "      <td>4251</td>\n",
       "      <td>77</td>\n",
       "      <td>8/29/2013 11:29</td>\n",
       "      <td>San Jose City Hall</td>\n",
       "      <td>10</td>\n",
       "      <td>8/29/2013 11:30</td>\n",
       "      <td>San Jose City Hall</td>\n",
       "      <td>10</td>\n",
       "      <td>26</td>\n",
       "      <td>Subscriber</td>\n",
       "      <td>95060</td>\n",
       "    </tr>\n",
       "    <tr>\n",
       "      <th>4</th>\n",
       "      <td>4299</td>\n",
       "      <td>83</td>\n",
       "      <td>8/29/2013 12:02</td>\n",
       "      <td>South Van Ness at Market</td>\n",
       "      <td>66</td>\n",
       "      <td>8/29/2013 12:04</td>\n",
       "      <td>Market at 10th</td>\n",
       "      <td>67</td>\n",
       "      <td>319</td>\n",
       "      <td>Subscriber</td>\n",
       "      <td>94103</td>\n",
       "    </tr>\n",
       "    <tr>\n",
       "      <th>...</th>\n",
       "      <td>...</td>\n",
       "      <td>...</td>\n",
       "      <td>...</td>\n",
       "      <td>...</td>\n",
       "      <td>...</td>\n",
       "      <td>...</td>\n",
       "      <td>...</td>\n",
       "      <td>...</td>\n",
       "      <td>...</td>\n",
       "      <td>...</td>\n",
       "      <td>...</td>\n",
       "    </tr>\n",
       "    <tr>\n",
       "      <th>669954</th>\n",
       "      <td>432951</td>\n",
       "      <td>619</td>\n",
       "      <td>9/1/2014 4:21</td>\n",
       "      <td>Powell Street BART</td>\n",
       "      <td>39</td>\n",
       "      <td>9/1/2014 4:32</td>\n",
       "      <td>Townsend at 7th</td>\n",
       "      <td>65</td>\n",
       "      <td>335</td>\n",
       "      <td>Subscriber</td>\n",
       "      <td>94118</td>\n",
       "    </tr>\n",
       "    <tr>\n",
       "      <th>669955</th>\n",
       "      <td>432950</td>\n",
       "      <td>6712</td>\n",
       "      <td>9/1/2014 3:16</td>\n",
       "      <td>Harry Bridges Plaza (Ferry Building)</td>\n",
       "      <td>50</td>\n",
       "      <td>9/1/2014 5:08</td>\n",
       "      <td>San Francisco Caltrain (Townsend at 4th)</td>\n",
       "      <td>70</td>\n",
       "      <td>259</td>\n",
       "      <td>Customer</td>\n",
       "      <td>44100</td>\n",
       "    </tr>\n",
       "    <tr>\n",
       "      <th>669956</th>\n",
       "      <td>432949</td>\n",
       "      <td>538</td>\n",
       "      <td>9/1/2014 0:05</td>\n",
       "      <td>South Van Ness at Market</td>\n",
       "      <td>66</td>\n",
       "      <td>9/1/2014 0:14</td>\n",
       "      <td>5th at Howard</td>\n",
       "      <td>57</td>\n",
       "      <td>466</td>\n",
       "      <td>Customer</td>\n",
       "      <td>32</td>\n",
       "    </tr>\n",
       "    <tr>\n",
       "      <th>669957</th>\n",
       "      <td>432948</td>\n",
       "      <td>568</td>\n",
       "      <td>9/1/2014 0:05</td>\n",
       "      <td>South Van Ness at Market</td>\n",
       "      <td>66</td>\n",
       "      <td>9/1/2014 0:15</td>\n",
       "      <td>5th at Howard</td>\n",
       "      <td>57</td>\n",
       "      <td>461</td>\n",
       "      <td>Customer</td>\n",
       "      <td>32</td>\n",
       "    </tr>\n",
       "    <tr>\n",
       "      <th>669958</th>\n",
       "      <td>432947</td>\n",
       "      <td>569</td>\n",
       "      <td>9/1/2014 0:05</td>\n",
       "      <td>South Van Ness at Market</td>\n",
       "      <td>66</td>\n",
       "      <td>9/1/2014 0:15</td>\n",
       "      <td>5th at Howard</td>\n",
       "      <td>57</td>\n",
       "      <td>318</td>\n",
       "      <td>Customer</td>\n",
       "      <td>32</td>\n",
       "    </tr>\n",
       "  </tbody>\n",
       "</table>\n",
       "<p>669959 rows × 11 columns</p>\n",
       "</div>"
      ],
      "text/plain": [
       "            id  duration       start_date   \n",
       "0         4576        63  8/29/2013 14:13  \\\n",
       "1         4607        70  8/29/2013 14:42   \n",
       "2         4130        71  8/29/2013 10:16   \n",
       "3         4251        77  8/29/2013 11:29   \n",
       "4         4299        83  8/29/2013 12:02   \n",
       "...        ...       ...              ...   \n",
       "669954  432951       619    9/1/2014 4:21   \n",
       "669955  432950      6712    9/1/2014 3:16   \n",
       "669956  432949       538    9/1/2014 0:05   \n",
       "669957  432948       568    9/1/2014 0:05   \n",
       "669958  432947       569    9/1/2014 0:05   \n",
       "\n",
       "                          start_station_name  start_station_id   \n",
       "0                   South Van Ness at Market                66  \\\n",
       "1                         San Jose City Hall                10   \n",
       "2                    Mountain View City Hall                27   \n",
       "3                         San Jose City Hall                10   \n",
       "4                   South Van Ness at Market                66   \n",
       "...                                      ...               ...   \n",
       "669954                    Powell Street BART                39   \n",
       "669955  Harry Bridges Plaza (Ferry Building)                50   \n",
       "669956              South Van Ness at Market                66   \n",
       "669957              South Van Ness at Market                66   \n",
       "669958              South Van Ness at Market                66   \n",
       "\n",
       "               end_date                          end_station_name   \n",
       "0       8/29/2013 14:14                  South Van Ness at Market  \\\n",
       "1       8/29/2013 14:43                        San Jose City Hall   \n",
       "2       8/29/2013 10:17                   Mountain View City Hall   \n",
       "3       8/29/2013 11:30                        San Jose City Hall   \n",
       "4       8/29/2013 12:04                            Market at 10th   \n",
       "...                 ...                                       ...   \n",
       "669954    9/1/2014 4:32                           Townsend at 7th   \n",
       "669955    9/1/2014 5:08  San Francisco Caltrain (Townsend at 4th)   \n",
       "669956    9/1/2014 0:14                             5th at Howard   \n",
       "669957    9/1/2014 0:15                             5th at Howard   \n",
       "669958    9/1/2014 0:15                             5th at Howard   \n",
       "\n",
       "        end_station_id  bike_id subscription_type zip_code  \n",
       "0                   66      520        Subscriber    94127  \n",
       "1                   10      661        Subscriber    95138  \n",
       "2                   27       48        Subscriber    97214  \n",
       "3                   10       26        Subscriber    95060  \n",
       "4                   67      319        Subscriber    94103  \n",
       "...                ...      ...               ...      ...  \n",
       "669954              65      335        Subscriber    94118  \n",
       "669955              70      259          Customer    44100  \n",
       "669956              57      466          Customer       32  \n",
       "669957              57      461          Customer       32  \n",
       "669958              57      318          Customer       32  \n",
       "\n",
       "[669959 rows x 11 columns]"
      ]
     },
     "execution_count": 5,
     "metadata": {},
     "output_type": "execute_result"
    }
   ],
   "source": [
    "trip"
   ]
  },
  {
   "cell_type": "code",
   "execution_count": 48,
   "metadata": {},
   "outputs": [],
   "source": [
    "trip_simple = trip.drop([\"zip_code\", \"id\", \"start_station_name\", \"end_station_name\", \"bike_id\"], axis=1)"
   ]
  },
  {
   "cell_type": "code",
   "execution_count": 12,
   "metadata": {},
   "outputs": [],
   "source": [
    "import datetime"
   ]
  },
  {
   "cell_type": "code",
   "execution_count": 49,
   "metadata": {},
   "outputs": [],
   "source": [
    "trip_simple[\"start_date\"] = trip_simple[\"start_date\"].map(lambda s: datetime.datetime.strptime(s, \"%m/%d/%Y %H:%M\").date())\n",
    "trip_simple[\"end_date\"] = trip_simple[\"end_date\"].map(lambda s: datetime.datetime.strptime(s, \"%m/%d/%Y %H:%M\").date())"
   ]
  },
  {
   "cell_type": "code",
   "execution_count": 58,
   "metadata": {},
   "outputs": [
    {
     "data": {
      "text/html": [
       "<div>\n",
       "<style scoped>\n",
       "    .dataframe tbody tr th:only-of-type {\n",
       "        vertical-align: middle;\n",
       "    }\n",
       "\n",
       "    .dataframe tbody tr th {\n",
       "        vertical-align: top;\n",
       "    }\n",
       "\n",
       "    .dataframe thead tr th {\n",
       "        text-align: left;\n",
       "    }\n",
       "</style>\n",
       "<table border=\"1\" class=\"dataframe\">\n",
       "  <thead>\n",
       "    <tr>\n",
       "      <th></th>\n",
       "      <th>start_station_id</th>\n",
       "      <th>end_station_id</th>\n",
       "      <th>start_date</th>\n",
       "      <th>end_date</th>\n",
       "      <th>subscription_type</th>\n",
       "      <th colspan=\"2\" halign=\"left\">duration</th>\n",
       "    </tr>\n",
       "    <tr>\n",
       "      <th></th>\n",
       "      <th></th>\n",
       "      <th></th>\n",
       "      <th></th>\n",
       "      <th></th>\n",
       "      <th></th>\n",
       "      <th>mean</th>\n",
       "      <th>size</th>\n",
       "    </tr>\n",
       "  </thead>\n",
       "  <tbody>\n",
       "    <tr>\n",
       "      <th>0</th>\n",
       "      <td>2</td>\n",
       "      <td>2</td>\n",
       "      <td>2013-08-30</td>\n",
       "      <td>2013-08-30</td>\n",
       "      <td>Subscriber</td>\n",
       "      <td>289.0</td>\n",
       "      <td>1</td>\n",
       "    </tr>\n",
       "    <tr>\n",
       "      <th>1</th>\n",
       "      <td>2</td>\n",
       "      <td>2</td>\n",
       "      <td>2013-09-02</td>\n",
       "      <td>2013-09-02</td>\n",
       "      <td>Customer</td>\n",
       "      <td>3626.0</td>\n",
       "      <td>2</td>\n",
       "    </tr>\n",
       "    <tr>\n",
       "      <th>2</th>\n",
       "      <td>2</td>\n",
       "      <td>2</td>\n",
       "      <td>2013-09-03</td>\n",
       "      <td>2013-09-03</td>\n",
       "      <td>Customer</td>\n",
       "      <td>3471.0</td>\n",
       "      <td>1</td>\n",
       "    </tr>\n",
       "    <tr>\n",
       "      <th>3</th>\n",
       "      <td>2</td>\n",
       "      <td>2</td>\n",
       "      <td>2013-09-05</td>\n",
       "      <td>2013-09-05</td>\n",
       "      <td>Customer</td>\n",
       "      <td>513.0</td>\n",
       "      <td>1</td>\n",
       "    </tr>\n",
       "    <tr>\n",
       "      <th>4</th>\n",
       "      <td>2</td>\n",
       "      <td>2</td>\n",
       "      <td>2013-09-06</td>\n",
       "      <td>2013-09-06</td>\n",
       "      <td>Subscriber</td>\n",
       "      <td>119.5</td>\n",
       "      <td>2</td>\n",
       "    </tr>\n",
       "    <tr>\n",
       "      <th>...</th>\n",
       "      <td>...</td>\n",
       "      <td>...</td>\n",
       "      <td>...</td>\n",
       "      <td>...</td>\n",
       "      <td>...</td>\n",
       "      <td>...</td>\n",
       "      <td>...</td>\n",
       "    </tr>\n",
       "    <tr>\n",
       "      <th>362483</th>\n",
       "      <td>84</td>\n",
       "      <td>84</td>\n",
       "      <td>2015-06-21</td>\n",
       "      <td>2015-06-21</td>\n",
       "      <td>Customer</td>\n",
       "      <td>1506.2</td>\n",
       "      <td>5</td>\n",
       "    </tr>\n",
       "    <tr>\n",
       "      <th>362484</th>\n",
       "      <td>84</td>\n",
       "      <td>84</td>\n",
       "      <td>2015-06-22</td>\n",
       "      <td>2015-06-22</td>\n",
       "      <td>Subscriber</td>\n",
       "      <td>855.0</td>\n",
       "      <td>1</td>\n",
       "    </tr>\n",
       "    <tr>\n",
       "      <th>362485</th>\n",
       "      <td>84</td>\n",
       "      <td>84</td>\n",
       "      <td>2015-07-03</td>\n",
       "      <td>2015-07-03</td>\n",
       "      <td>Subscriber</td>\n",
       "      <td>1038.0</td>\n",
       "      <td>1</td>\n",
       "    </tr>\n",
       "    <tr>\n",
       "      <th>362486</th>\n",
       "      <td>84</td>\n",
       "      <td>84</td>\n",
       "      <td>2015-07-05</td>\n",
       "      <td>2015-07-05</td>\n",
       "      <td>Customer</td>\n",
       "      <td>3450.0</td>\n",
       "      <td>1</td>\n",
       "    </tr>\n",
       "    <tr>\n",
       "      <th>362487</th>\n",
       "      <td>84</td>\n",
       "      <td>84</td>\n",
       "      <td>2015-08-08</td>\n",
       "      <td>2015-08-08</td>\n",
       "      <td>Customer</td>\n",
       "      <td>3153.0</td>\n",
       "      <td>1</td>\n",
       "    </tr>\n",
       "  </tbody>\n",
       "</table>\n",
       "<p>362488 rows × 7 columns</p>\n",
       "</div>"
      ],
      "text/plain": [
       "       start_station_id end_station_id  start_date    end_date   \n",
       "                                                                 \n",
       "0                     2              2  2013-08-30  2013-08-30  \\\n",
       "1                     2              2  2013-09-02  2013-09-02   \n",
       "2                     2              2  2013-09-03  2013-09-03   \n",
       "3                     2              2  2013-09-05  2013-09-05   \n",
       "4                     2              2  2013-09-06  2013-09-06   \n",
       "...                 ...            ...         ...         ...   \n",
       "362483               84             84  2015-06-21  2015-06-21   \n",
       "362484               84             84  2015-06-22  2015-06-22   \n",
       "362485               84             84  2015-07-03  2015-07-03   \n",
       "362486               84             84  2015-07-05  2015-07-05   \n",
       "362487               84             84  2015-08-08  2015-08-08   \n",
       "\n",
       "       subscription_type duration       \n",
       "                             mean size  \n",
       "0             Subscriber    289.0    1  \n",
       "1               Customer   3626.0    2  \n",
       "2               Customer   3471.0    1  \n",
       "3               Customer    513.0    1  \n",
       "4             Subscriber    119.5    2  \n",
       "...                  ...      ...  ...  \n",
       "362483          Customer   1506.2    5  \n",
       "362484        Subscriber    855.0    1  \n",
       "362485        Subscriber   1038.0    1  \n",
       "362486          Customer   3450.0    1  \n",
       "362487          Customer   3153.0    1  \n",
       "\n",
       "[362488 rows x 7 columns]"
      ]
     },
     "execution_count": 58,
     "metadata": {},
     "output_type": "execute_result"
    }
   ],
   "source": [
    "trip_simple_final = (trip_simple\n",
    "        .groupby(by=[\"start_station_id\", \"end_station_id\", \"start_date\", \"end_date\", \"subscription_type\"])\n",
    "        .agg([\"mean\", \"size\"])\n",
    "        .reset_index()\n",
    ")\n",
    "trip_simple_final"
   ]
  },
  {
   "cell_type": "code",
   "execution_count": 59,
   "metadata": {},
   "outputs": [],
   "source": [
    "trip_simple_final.columns = trip_simple_final.columns.to_flat_index()"
   ]
  },
  {
   "cell_type": "code",
   "execution_count": 62,
   "metadata": {},
   "outputs": [],
   "source": [
    "trip_simple_final.rename(columns={\n",
    "    (\"start_station_id\", \"\"): \"start_station_id\",\n",
    "    (\"end_station_id\", \"\"): \"end_station_id\",\n",
    "    (\"start_date\", \"\"): \"start_date\",\n",
    "    (\"end_date\", \"\"): \"end_date\",\n",
    "    (\"subscription_type\", \"\"): \"subscription_type\",\n",
    "    (\"duration\", \"mean\"): \"duration_avg\",\n",
    "    (\"duration\", \"size\"): \"total_trips\",\n",
    "}).to_csv(\"data/trip_small.csv\", index=False)"
   ]
  },
  {
   "cell_type": "markdown",
   "metadata": {},
   "source": [
    "## Obtaining metadata"
   ]
  },
  {
   "cell_type": "code",
   "execution_count": 115,
   "metadata": {},
   "outputs": [],
   "source": [
    "status_small = pd.read_csv(\"data/status_small.csv\")\n",
    "trip_small = pd.read_csv(\"data/trip_small.csv\")\n",
    "station = pd.read_csv(\"data/station.csv\")"
   ]
  },
  {
   "cell_type": "code",
   "execution_count": 80,
   "metadata": {},
   "outputs": [],
   "source": [
    "from datetime import datetime"
   ]
  },
  {
   "cell_type": "code",
   "execution_count": 116,
   "metadata": {},
   "outputs": [],
   "source": [
    "station[\"installation_date\"] = station[\"installation_date\"].map(lambda s: datetime.strptime(s, \"%m/%d/%Y\").date().isoformat())"
   ]
  },
  {
   "cell_type": "code",
   "execution_count": 104,
   "metadata": {},
   "outputs": [
    {
     "data": {
      "text/html": [
       "<div>\n",
       "<style scoped>\n",
       "    .dataframe tbody tr th:only-of-type {\n",
       "        vertical-align: middle;\n",
       "    }\n",
       "\n",
       "    .dataframe tbody tr th {\n",
       "        vertical-align: top;\n",
       "    }\n",
       "\n",
       "    .dataframe thead th {\n",
       "        text-align: right;\n",
       "    }\n",
       "</style>\n",
       "<table border=\"1\" class=\"dataframe\">\n",
       "  <thead>\n",
       "    <tr style=\"text-align: right;\">\n",
       "      <th></th>\n",
       "      <th>id</th>\n",
       "      <th>name</th>\n",
       "      <th>lat</th>\n",
       "      <th>long</th>\n",
       "      <th>dock_count</th>\n",
       "      <th>city</th>\n",
       "      <th>installation_date</th>\n",
       "    </tr>\n",
       "  </thead>\n",
       "  <tbody>\n",
       "    <tr>\n",
       "      <th>0</th>\n",
       "      <td>2</td>\n",
       "      <td>San Jose Diridon Caltrain Station</td>\n",
       "      <td>37.329732</td>\n",
       "      <td>-121.901782</td>\n",
       "      <td>27</td>\n",
       "      <td>San Jose</td>\n",
       "      <td>2013-08-06</td>\n",
       "    </tr>\n",
       "    <tr>\n",
       "      <th>1</th>\n",
       "      <td>3</td>\n",
       "      <td>San Jose Civic Center</td>\n",
       "      <td>37.330698</td>\n",
       "      <td>-121.888979</td>\n",
       "      <td>15</td>\n",
       "      <td>San Jose</td>\n",
       "      <td>2013-08-05</td>\n",
       "    </tr>\n",
       "    <tr>\n",
       "      <th>2</th>\n",
       "      <td>4</td>\n",
       "      <td>Santa Clara at Almaden</td>\n",
       "      <td>37.333988</td>\n",
       "      <td>-121.894902</td>\n",
       "      <td>11</td>\n",
       "      <td>San Jose</td>\n",
       "      <td>2013-08-06</td>\n",
       "    </tr>\n",
       "    <tr>\n",
       "      <th>3</th>\n",
       "      <td>5</td>\n",
       "      <td>Adobe on Almaden</td>\n",
       "      <td>37.331415</td>\n",
       "      <td>-121.893200</td>\n",
       "      <td>19</td>\n",
       "      <td>San Jose</td>\n",
       "      <td>2013-08-05</td>\n",
       "    </tr>\n",
       "    <tr>\n",
       "      <th>4</th>\n",
       "      <td>6</td>\n",
       "      <td>San Pedro Square</td>\n",
       "      <td>37.336721</td>\n",
       "      <td>-121.894074</td>\n",
       "      <td>15</td>\n",
       "      <td>San Jose</td>\n",
       "      <td>2013-08-07</td>\n",
       "    </tr>\n",
       "    <tr>\n",
       "      <th>...</th>\n",
       "      <td>...</td>\n",
       "      <td>...</td>\n",
       "      <td>...</td>\n",
       "      <td>...</td>\n",
       "      <td>...</td>\n",
       "      <td>...</td>\n",
       "      <td>...</td>\n",
       "    </tr>\n",
       "    <tr>\n",
       "      <th>65</th>\n",
       "      <td>77</td>\n",
       "      <td>Market at Sansome</td>\n",
       "      <td>37.789625</td>\n",
       "      <td>-122.400811</td>\n",
       "      <td>27</td>\n",
       "      <td>San Francisco</td>\n",
       "      <td>2013-08-25</td>\n",
       "    </tr>\n",
       "    <tr>\n",
       "      <th>66</th>\n",
       "      <td>80</td>\n",
       "      <td>Santa Clara County Civic Center</td>\n",
       "      <td>37.352601</td>\n",
       "      <td>-121.905733</td>\n",
       "      <td>15</td>\n",
       "      <td>San Jose</td>\n",
       "      <td>2013-12-31</td>\n",
       "    </tr>\n",
       "    <tr>\n",
       "      <th>67</th>\n",
       "      <td>82</td>\n",
       "      <td>Broadway St at Battery St</td>\n",
       "      <td>37.798541</td>\n",
       "      <td>-122.400862</td>\n",
       "      <td>15</td>\n",
       "      <td>San Francisco</td>\n",
       "      <td>2014-01-22</td>\n",
       "    </tr>\n",
       "    <tr>\n",
       "      <th>68</th>\n",
       "      <td>83</td>\n",
       "      <td>Mezes Park</td>\n",
       "      <td>37.491269</td>\n",
       "      <td>-122.236234</td>\n",
       "      <td>15</td>\n",
       "      <td>Redwood City</td>\n",
       "      <td>2014-02-20</td>\n",
       "    </tr>\n",
       "    <tr>\n",
       "      <th>69</th>\n",
       "      <td>84</td>\n",
       "      <td>Ryland Park</td>\n",
       "      <td>37.342725</td>\n",
       "      <td>-121.895617</td>\n",
       "      <td>15</td>\n",
       "      <td>San Jose</td>\n",
       "      <td>2014-04-09</td>\n",
       "    </tr>\n",
       "  </tbody>\n",
       "</table>\n",
       "<p>70 rows × 7 columns</p>\n",
       "</div>"
      ],
      "text/plain": [
       "    id                               name        lat        long  dock_count   \n",
       "0    2  San Jose Diridon Caltrain Station  37.329732 -121.901782          27  \\\n",
       "1    3              San Jose Civic Center  37.330698 -121.888979          15   \n",
       "2    4             Santa Clara at Almaden  37.333988 -121.894902          11   \n",
       "3    5                   Adobe on Almaden  37.331415 -121.893200          19   \n",
       "4    6                   San Pedro Square  37.336721 -121.894074          15   \n",
       "..  ..                                ...        ...         ...         ...   \n",
       "65  77                  Market at Sansome  37.789625 -122.400811          27   \n",
       "66  80    Santa Clara County Civic Center  37.352601 -121.905733          15   \n",
       "67  82          Broadway St at Battery St  37.798541 -122.400862          15   \n",
       "68  83                         Mezes Park  37.491269 -122.236234          15   \n",
       "69  84                        Ryland Park  37.342725 -121.895617          15   \n",
       "\n",
       "             city installation_date  \n",
       "0        San Jose        2013-08-06  \n",
       "1        San Jose        2013-08-05  \n",
       "2        San Jose        2013-08-06  \n",
       "3        San Jose        2013-08-05  \n",
       "4        San Jose        2013-08-07  \n",
       "..            ...               ...  \n",
       "65  San Francisco        2013-08-25  \n",
       "66       San Jose        2013-12-31  \n",
       "67  San Francisco        2014-01-22  \n",
       "68   Redwood City        2014-02-20  \n",
       "69       San Jose        2014-04-09  \n",
       "\n",
       "[70 rows x 7 columns]"
      ]
     },
     "execution_count": 104,
     "metadata": {},
     "output_type": "execute_result"
    }
   ],
   "source": [
    "station"
   ]
  },
  {
   "cell_type": "code",
   "execution_count": 117,
   "metadata": {},
   "outputs": [],
   "source": [
    "stations = {s[\"id\"]: {k: s[k] for k in s.keys() if k != \"id\"} for _, s in station.iterrows()}"
   ]
  },
  {
   "cell_type": "code",
   "execution_count": 122,
   "metadata": {},
   "outputs": [],
   "source": [
    "# Yes these are strings, but they are ordered in a way that allows these ordinal comparisons to make sense (YYYY-mm-dd)\n",
    "max_date = max(\n",
    "    status_small[\"date\"].max(),\n",
    "    trip_small[\"start_date\"].max(),\n",
    "    trip_small[\"end_date\"].max(),\n",
    "    station[\"installation_date\"].max(),\n",
    ")\n",
    "\n",
    "min_date = min(\n",
    "    status_small[\"date\"].min(),\n",
    "    trip_small[\"start_date\"].min(),\n",
    "    trip_small[\"end_date\"].min(),\n",
    "    station[\"installation_date\"].min(),\n",
    ")"
   ]
  },
  {
   "cell_type": "code",
   "execution_count": 126,
   "metadata": {},
   "outputs": [],
   "source": [
    "metadata = {\n",
    "    \"date_min\": min_date,\n",
    "    \"date_max\": max_date,\n",
    "    \"stations\": stations,\n",
    "}"
   ]
  },
  {
   "cell_type": "code",
   "execution_count": 125,
   "metadata": {},
   "outputs": [],
   "source": [
    "import json"
   ]
  },
  {
   "cell_type": "code",
   "execution_count": 131,
   "metadata": {},
   "outputs": [],
   "source": [
    "with open(\"data/metadata.json\", \"wt\") as f:\n",
    "    f.write(json.dumps(metadata, indent=4))"
   ]
  },
  {
   "cell_type": "markdown",
   "metadata": {},
   "source": [
    "## Reading the other data"
   ]
  },
  {
   "cell_type": "code",
   "execution_count": 2,
   "metadata": {},
   "outputs": [],
   "source": [
    "station = pd.read_csv(\"data/station.csv\")\n",
    "weather = pd.read_csv(\"data/weather.csv\")\n",
    "trip = pd.read_csv(\"data/trip.csv\")"
   ]
  },
  {
   "cell_type": "code",
   "execution_count": 3,
   "metadata": {},
   "outputs": [
    {
     "data": {
      "text/plain": [
       "array([94107, 94063, 94301, 94041, 95113])"
      ]
     },
     "execution_count": 3,
     "metadata": {},
     "output_type": "execute_result"
    }
   ],
   "source": [
    "weather[\"zip_code\"].drop_duplicates().values"
   ]
  },
  {
   "cell_type": "code",
   "execution_count": null,
   "metadata": {},
   "outputs": [],
   "source": [
    "city_zipcode_map = {\n",
    "    94107: \"San Francisco\",\n",
    "    94063: \"Redwood City\",\n",
    "    94301: \"Palo Alto\",\n",
    "    94041: \"Mountain View\",\n",
    "    95113: \"San Jose\",\n",
    "}"
   ]
  },
  {
   "cell_type": "code",
   "execution_count": 5,
   "metadata": {},
   "outputs": [
    {
     "data": {
      "text/plain": [
       "7439"
      ]
     },
     "execution_count": 5,
     "metadata": {},
     "output_type": "execute_result"
    }
   ],
   "source": [
    "trip[\"zip_code\"].drop_duplicates().count()"
   ]
  },
  {
   "cell_type": "code",
   "execution_count": 6,
   "metadata": {},
   "outputs": [
    {
     "data": {
      "text/plain": [
       "(70, 7)"
      ]
     },
     "execution_count": 6,
     "metadata": {},
     "output_type": "execute_result"
    }
   ],
   "source": [
    "station.shape"
   ]
  },
  {
   "cell_type": "code",
   "execution_count": 7,
   "metadata": {},
   "outputs": [
    {
     "data": {
      "text/plain": [
       "array(['San Jose', 'Redwood City', 'Mountain View', 'Palo Alto',\n",
       "       'San Francisco'], dtype=object)"
      ]
     },
     "execution_count": 7,
     "metadata": {},
     "output_type": "execute_result"
    }
   ],
   "source": [
    "station[\"city\"].drop_duplicates().values"
   ]
  },
  {
   "cell_type": "code",
   "execution_count": 6,
   "metadata": {},
   "outputs": [
    {
     "data": {
      "text/plain": [
       "array([nan, 'Fog', 'Rain', 'Fog-Rain', 'rain', 'Rain-Thunderstorm'],\n",
       "      dtype=object)"
      ]
     },
     "execution_count": 6,
     "metadata": {},
     "output_type": "execute_result"
    }
   ],
   "source": [
    "weather[\"events\"].drop_duplicates().values"
   ]
  },
  {
   "cell_type": "markdown",
   "metadata": {},
   "source": [
    "## Testing the small data"
   ]
  },
  {
   "cell_type": "code",
   "execution_count": 2,
   "metadata": {},
   "outputs": [],
   "source": [
    "trip_small = pd.read_csv(\"data/trip_small.csv\")"
   ]
  },
  {
   "cell_type": "code",
   "execution_count": 7,
   "metadata": {},
   "outputs": [],
   "source": [
    "import datetime"
   ]
  },
  {
   "cell_type": "code",
   "execution_count": 9,
   "metadata": {},
   "outputs": [],
   "source": [
    "trip_small[\"start_date\"] = trip_small[\"start_date\"].map(datetime.date.fromisoformat)\n",
    "trip_small[\"end_date\"] = trip_small[\"end_date\"].map(datetime.date.fromisoformat)"
   ]
  },
  {
   "cell_type": "code",
   "execution_count": 12,
   "metadata": {},
   "outputs": [],
   "source": [
    "trip_small[\"diff\"] = trip_small[\"end_date\"] - trip_small[\"start_date\"]"
   ]
  },
  {
   "cell_type": "code",
   "execution_count": 19,
   "metadata": {},
   "outputs": [
    {
     "data": {
      "text/html": [
       "<div>\n",
       "<style scoped>\n",
       "    .dataframe tbody tr th:only-of-type {\n",
       "        vertical-align: middle;\n",
       "    }\n",
       "\n",
       "    .dataframe tbody tr th {\n",
       "        vertical-align: top;\n",
       "    }\n",
       "\n",
       "    .dataframe thead th {\n",
       "        text-align: right;\n",
       "    }\n",
       "</style>\n",
       "<table border=\"1\" class=\"dataframe\">\n",
       "  <thead>\n",
       "    <tr style=\"text-align: right;\">\n",
       "      <th></th>\n",
       "      <th>total_trips</th>\n",
       "    </tr>\n",
       "    <tr>\n",
       "      <th>diff</th>\n",
       "      <th></th>\n",
       "    </tr>\n",
       "  </thead>\n",
       "  <tbody>\n",
       "    <tr>\n",
       "      <th>0 days</th>\n",
       "      <td>667860</td>\n",
       "    </tr>\n",
       "    <tr>\n",
       "      <th>1 days</th>\n",
       "      <td>1915</td>\n",
       "    </tr>\n",
       "    <tr>\n",
       "      <th>2 days</th>\n",
       "      <td>91</td>\n",
       "    </tr>\n",
       "    <tr>\n",
       "      <th>3 days</th>\n",
       "      <td>47</td>\n",
       "    </tr>\n",
       "    <tr>\n",
       "      <th>4 days</th>\n",
       "      <td>15</td>\n",
       "    </tr>\n",
       "    <tr>\n",
       "      <th>5 days</th>\n",
       "      <td>6</td>\n",
       "    </tr>\n",
       "    <tr>\n",
       "      <th>6 days</th>\n",
       "      <td>8</td>\n",
       "    </tr>\n",
       "    <tr>\n",
       "      <th>7 days</th>\n",
       "      <td>8</td>\n",
       "    </tr>\n",
       "    <tr>\n",
       "      <th>8 days</th>\n",
       "      <td>5</td>\n",
       "    </tr>\n",
       "    <tr>\n",
       "      <th>13 days</th>\n",
       "      <td>1</td>\n",
       "    </tr>\n",
       "    <tr>\n",
       "      <th>21 days</th>\n",
       "      <td>1</td>\n",
       "    </tr>\n",
       "    <tr>\n",
       "      <th>25 days</th>\n",
       "      <td>1</td>\n",
       "    </tr>\n",
       "    <tr>\n",
       "      <th>200 days</th>\n",
       "      <td>1</td>\n",
       "    </tr>\n",
       "  </tbody>\n",
       "</table>\n",
       "</div>"
      ],
      "text/plain": [
       "          total_trips\n",
       "diff                 \n",
       "0 days         667860\n",
       "1 days           1915\n",
       "2 days             91\n",
       "3 days             47\n",
       "4 days             15\n",
       "5 days              6\n",
       "6 days              8\n",
       "7 days              8\n",
       "8 days              5\n",
       "13 days             1\n",
       "21 days             1\n",
       "25 days             1\n",
       "200 days            1"
      ]
     },
     "execution_count": 19,
     "metadata": {},
     "output_type": "execute_result"
    }
   ],
   "source": [
    "trip_small[[\"diff\", \"total_trips\"]].groupby(\"diff\").sum()"
   ]
  },
  {
   "cell_type": "markdown",
   "metadata": {},
   "source": [
    "# Diogo's fuckAroundAndFindOut"
   ]
  },
  {
   "cell_type": "markdown",
   "metadata": {},
   "source": [
    "### Creation of bikes_usage"
   ]
  },
  {
   "cell_type": "code",
   "execution_count": 8,
   "metadata": {},
   "outputs": [
    {
     "data": {
      "text/html": [
       "<div>\n",
       "<style scoped>\n",
       "    .dataframe tbody tr th:only-of-type {\n",
       "        vertical-align: middle;\n",
       "    }\n",
       "\n",
       "    .dataframe tbody tr th {\n",
       "        vertical-align: top;\n",
       "    }\n",
       "\n",
       "    .dataframe thead th {\n",
       "        text-align: right;\n",
       "    }\n",
       "</style>\n",
       "<table border=\"1\" class=\"dataframe\">\n",
       "  <thead>\n",
       "    <tr style=\"text-align: right;\">\n",
       "      <th></th>\n",
       "      <th>id</th>\n",
       "      <th>name</th>\n",
       "      <th>lat</th>\n",
       "      <th>long</th>\n",
       "      <th>dock_count</th>\n",
       "      <th>city</th>\n",
       "      <th>installation_date</th>\n",
       "    </tr>\n",
       "  </thead>\n",
       "  <tbody>\n",
       "    <tr>\n",
       "      <th>0</th>\n",
       "      <td>2</td>\n",
       "      <td>San Jose Diridon Caltrain Station</td>\n",
       "      <td>37.329732</td>\n",
       "      <td>-121.901782</td>\n",
       "      <td>27</td>\n",
       "      <td>San Jose</td>\n",
       "      <td>8/6/2013</td>\n",
       "    </tr>\n",
       "    <tr>\n",
       "      <th>1</th>\n",
       "      <td>3</td>\n",
       "      <td>San Jose Civic Center</td>\n",
       "      <td>37.330698</td>\n",
       "      <td>-121.888979</td>\n",
       "      <td>15</td>\n",
       "      <td>San Jose</td>\n",
       "      <td>8/5/2013</td>\n",
       "    </tr>\n",
       "    <tr>\n",
       "      <th>2</th>\n",
       "      <td>4</td>\n",
       "      <td>Santa Clara at Almaden</td>\n",
       "      <td>37.333988</td>\n",
       "      <td>-121.894902</td>\n",
       "      <td>11</td>\n",
       "      <td>San Jose</td>\n",
       "      <td>8/6/2013</td>\n",
       "    </tr>\n",
       "    <tr>\n",
       "      <th>3</th>\n",
       "      <td>5</td>\n",
       "      <td>Adobe on Almaden</td>\n",
       "      <td>37.331415</td>\n",
       "      <td>-121.893200</td>\n",
       "      <td>19</td>\n",
       "      <td>San Jose</td>\n",
       "      <td>8/5/2013</td>\n",
       "    </tr>\n",
       "    <tr>\n",
       "      <th>4</th>\n",
       "      <td>6</td>\n",
       "      <td>San Pedro Square</td>\n",
       "      <td>37.336721</td>\n",
       "      <td>-121.894074</td>\n",
       "      <td>15</td>\n",
       "      <td>San Jose</td>\n",
       "      <td>8/7/2013</td>\n",
       "    </tr>\n",
       "    <tr>\n",
       "      <th>...</th>\n",
       "      <td>...</td>\n",
       "      <td>...</td>\n",
       "      <td>...</td>\n",
       "      <td>...</td>\n",
       "      <td>...</td>\n",
       "      <td>...</td>\n",
       "      <td>...</td>\n",
       "    </tr>\n",
       "    <tr>\n",
       "      <th>65</th>\n",
       "      <td>77</td>\n",
       "      <td>Market at Sansome</td>\n",
       "      <td>37.789625</td>\n",
       "      <td>-122.400811</td>\n",
       "      <td>27</td>\n",
       "      <td>San Francisco</td>\n",
       "      <td>8/25/2013</td>\n",
       "    </tr>\n",
       "    <tr>\n",
       "      <th>66</th>\n",
       "      <td>80</td>\n",
       "      <td>Santa Clara County Civic Center</td>\n",
       "      <td>37.352601</td>\n",
       "      <td>-121.905733</td>\n",
       "      <td>15</td>\n",
       "      <td>San Jose</td>\n",
       "      <td>12/31/2013</td>\n",
       "    </tr>\n",
       "    <tr>\n",
       "      <th>67</th>\n",
       "      <td>82</td>\n",
       "      <td>Broadway St at Battery St</td>\n",
       "      <td>37.798541</td>\n",
       "      <td>-122.400862</td>\n",
       "      <td>15</td>\n",
       "      <td>San Francisco</td>\n",
       "      <td>1/22/2014</td>\n",
       "    </tr>\n",
       "    <tr>\n",
       "      <th>68</th>\n",
       "      <td>83</td>\n",
       "      <td>Mezes Park</td>\n",
       "      <td>37.491269</td>\n",
       "      <td>-122.236234</td>\n",
       "      <td>15</td>\n",
       "      <td>Redwood City</td>\n",
       "      <td>2/20/2014</td>\n",
       "    </tr>\n",
       "    <tr>\n",
       "      <th>69</th>\n",
       "      <td>84</td>\n",
       "      <td>Ryland Park</td>\n",
       "      <td>37.342725</td>\n",
       "      <td>-121.895617</td>\n",
       "      <td>15</td>\n",
       "      <td>San Jose</td>\n",
       "      <td>4/9/2014</td>\n",
       "    </tr>\n",
       "  </tbody>\n",
       "</table>\n",
       "<p>70 rows × 7 columns</p>\n",
       "</div>"
      ],
      "text/plain": [
       "    id                               name        lat        long  dock_count   \n",
       "0    2  San Jose Diridon Caltrain Station  37.329732 -121.901782          27  \\\n",
       "1    3              San Jose Civic Center  37.330698 -121.888979          15   \n",
       "2    4             Santa Clara at Almaden  37.333988 -121.894902          11   \n",
       "3    5                   Adobe on Almaden  37.331415 -121.893200          19   \n",
       "4    6                   San Pedro Square  37.336721 -121.894074          15   \n",
       "..  ..                                ...        ...         ...         ...   \n",
       "65  77                  Market at Sansome  37.789625 -122.400811          27   \n",
       "66  80    Santa Clara County Civic Center  37.352601 -121.905733          15   \n",
       "67  82          Broadway St at Battery St  37.798541 -122.400862          15   \n",
       "68  83                         Mezes Park  37.491269 -122.236234          15   \n",
       "69  84                        Ryland Park  37.342725 -121.895617          15   \n",
       "\n",
       "             city installation_date  \n",
       "0        San Jose          8/6/2013  \n",
       "1        San Jose          8/5/2013  \n",
       "2        San Jose          8/6/2013  \n",
       "3        San Jose          8/5/2013  \n",
       "4        San Jose          8/7/2013  \n",
       "..            ...               ...  \n",
       "65  San Francisco         8/25/2013  \n",
       "66       San Jose        12/31/2013  \n",
       "67  San Francisco         1/22/2014  \n",
       "68   Redwood City         2/20/2014  \n",
       "69       San Jose          4/9/2014  \n",
       "\n",
       "[70 rows x 7 columns]"
      ]
     },
     "execution_count": 8,
     "metadata": {},
     "output_type": "execute_result"
    }
   ],
   "source": [
    "trips = pd.read_csv(\"trip.csv\")\n",
    "trips_small = trips [[\"duration\",\"bike_id\",\"start_date\"]]"
   ]
  },
  {
   "cell_type": "code",
   "execution_count": null,
   "metadata": {},
   "outputs": [],
   "source": [
    "import datetime\n",
    "trips_small[\"start_date\"] = trips_small[\"start_date\"].map(lambda s: datetime.datetime.strptime(s, \"%m/%d/%Y %H:%M\").date())"
   ]
  },
  {
   "cell_type": "code",
   "execution_count": null,
   "metadata": {},
   "outputs": [],
   "source": [
    "# Group by 'start_date' and 'bike_id', then sum the durations\n",
    "total_duration_per_day = trips_small.groupby(['start_date', 'bike_id'])['duration'].sum().reset_index(name='total_duration')\n",
    "\n",
    "total_duration_per_day"
   ]
  },
  {
   "cell_type": "code",
   "execution_count": null,
   "metadata": {},
   "outputs": [],
   "source": [
    "#save it\n",
    "total_duration_per_day.to_csv(\"bikes_usage.csv\",index=False)"
   ]
  }
 ],
 "metadata": {
  "kernelspec": {
   "display_name": "Python 3",
   "language": "python",
   "name": "python3"
  },
  "language_info": {
   "codemirror_mode": {
    "name": "ipython",
    "version": 3
   },
   "file_extension": ".py",
   "mimetype": "text/x-python",
   "name": "python",
   "nbconvert_exporter": "python",
   "pygments_lexer": "ipython3",
   "version": "3.10.12"
  }
 },
 "nbformat": 4,
 "nbformat_minor": 2
}
