{
 "cells": [
  {
   "cell_type": "markdown",
   "metadata": {},
   "source": [
    "# Data exploration"
   ]
  },
  {
   "cell_type": "markdown",
   "metadata": {},
   "source": [
    "## Imports"
   ]
  },
  {
   "cell_type": "code",
   "execution_count": 1,
   "metadata": {},
   "outputs": [],
   "source": [
    "import os\n",
    "import pandas as pd"
   ]
  },
  {
   "cell_type": "markdown",
   "metadata": {},
   "source": [
    "## Simplifying the `status.csv` data"
   ]
  },
  {
   "cell_type": "code",
   "execution_count": 2,
   "metadata": {},
   "outputs": [],
   "source": [
    "status_file = lambda f: os.path.join(\"data/status\", f)\n",
    "status_blocks = sorted(os.listdir(\"data/status\"))"
   ]
  },
  {
   "cell_type": "code",
   "execution_count": 3,
   "metadata": {},
   "outputs": [],
   "source": [
    "status_0 = pd.read_csv(status_file(status_blocks[0]), header=0)"
   ]
  },
  {
   "cell_type": "code",
   "execution_count": 4,
   "metadata": {},
   "outputs": [],
   "source": [
    "status_0[\"date\"] = status_0[\"time\"].map(lambda v: v.split(\" \")[0])"
   ]
  },
  {
   "cell_type": "code",
   "execution_count": 5,
   "metadata": {},
   "outputs": [
    {
     "data": {
      "text/html": [
       "<div>\n",
       "<style scoped>\n",
       "    .dataframe tbody tr th:only-of-type {\n",
       "        vertical-align: middle;\n",
       "    }\n",
       "\n",
       "    .dataframe tbody tr th {\n",
       "        vertical-align: top;\n",
       "    }\n",
       "\n",
       "    .dataframe thead tr th {\n",
       "        text-align: left;\n",
       "    }\n",
       "</style>\n",
       "<table border=\"1\" class=\"dataframe\">\n",
       "  <thead>\n",
       "    <tr>\n",
       "      <th></th>\n",
       "      <th>station_id</th>\n",
       "      <th>date</th>\n",
       "      <th colspan=\"2\" halign=\"left\">bikes_available</th>\n",
       "      <th colspan=\"2\" halign=\"left\">docks_available</th>\n",
       "    </tr>\n",
       "    <tr>\n",
       "      <th></th>\n",
       "      <th></th>\n",
       "      <th></th>\n",
       "      <th>sum</th>\n",
       "      <th>size</th>\n",
       "      <th>sum</th>\n",
       "      <th>size</th>\n",
       "    </tr>\n",
       "  </thead>\n",
       "  <tbody>\n",
       "    <tr>\n",
       "      <th>0</th>\n",
       "      <td>2</td>\n",
       "      <td>2013/08/29</td>\n",
       "      <td>1439</td>\n",
       "      <td>642</td>\n",
       "      <td>15895</td>\n",
       "      <td>642</td>\n",
       "    </tr>\n",
       "    <tr>\n",
       "      <th>1</th>\n",
       "      <td>2</td>\n",
       "      <td>2013/08/30</td>\n",
       "      <td>6674</td>\n",
       "      <td>1288</td>\n",
       "      <td>28102</td>\n",
       "      <td>1288</td>\n",
       "    </tr>\n",
       "    <tr>\n",
       "      <th>2</th>\n",
       "      <td>2</td>\n",
       "      <td>2013/08/31</td>\n",
       "      <td>16069</td>\n",
       "      <td>1315</td>\n",
       "      <td>19436</td>\n",
       "      <td>1315</td>\n",
       "    </tr>\n",
       "    <tr>\n",
       "      <th>3</th>\n",
       "      <td>2</td>\n",
       "      <td>2013/09/01</td>\n",
       "      <td>13605</td>\n",
       "      <td>1293</td>\n",
       "      <td>21306</td>\n",
       "      <td>1293</td>\n",
       "    </tr>\n",
       "    <tr>\n",
       "      <th>4</th>\n",
       "      <td>2</td>\n",
       "      <td>2013/09/02</td>\n",
       "      <td>14296</td>\n",
       "      <td>1272</td>\n",
       "      <td>20048</td>\n",
       "      <td>1272</td>\n",
       "    </tr>\n",
       "    <tr>\n",
       "      <th>5</th>\n",
       "      <td>2</td>\n",
       "      <td>2013/09/03</td>\n",
       "      <td>13777</td>\n",
       "      <td>1273</td>\n",
       "      <td>20594</td>\n",
       "      <td>1273</td>\n",
       "    </tr>\n",
       "    <tr>\n",
       "      <th>6</th>\n",
       "      <td>2</td>\n",
       "      <td>2013/09/04</td>\n",
       "      <td>12143</td>\n",
       "      <td>1290</td>\n",
       "      <td>22687</td>\n",
       "      <td>1290</td>\n",
       "    </tr>\n",
       "    <tr>\n",
       "      <th>7</th>\n",
       "      <td>2</td>\n",
       "      <td>2013/09/05</td>\n",
       "      <td>18295</td>\n",
       "      <td>1317</td>\n",
       "      <td>17264</td>\n",
       "      <td>1317</td>\n",
       "    </tr>\n",
       "    <tr>\n",
       "      <th>8</th>\n",
       "      <td>2</td>\n",
       "      <td>2013/09/06</td>\n",
       "      <td>4635</td>\n",
       "      <td>309</td>\n",
       "      <td>3708</td>\n",
       "      <td>309</td>\n",
       "    </tr>\n",
       "  </tbody>\n",
       "</table>\n",
       "</div>"
      ],
      "text/plain": [
       "  station_id        date bikes_available       docks_available      \n",
       "                                     sum  size             sum  size\n",
       "0          2  2013/08/29            1439   642           15895   642\n",
       "1          2  2013/08/30            6674  1288           28102  1288\n",
       "2          2  2013/08/31           16069  1315           19436  1315\n",
       "3          2  2013/09/01           13605  1293           21306  1293\n",
       "4          2  2013/09/02           14296  1272           20048  1272\n",
       "5          2  2013/09/03           13777  1273           20594  1273\n",
       "6          2  2013/09/04           12143  1290           22687  1290\n",
       "7          2  2013/09/05           18295  1317           17264  1317\n",
       "8          2  2013/09/06            4635   309            3708   309"
      ]
     },
     "execution_count": 5,
     "metadata": {},
     "output_type": "execute_result"
    }
   ],
   "source": [
    "status_0.drop(\"time\", axis=1).groupby([\"station_id\", \"date\"]).agg([\"sum\", \"size\"]).reset_index()"
   ]
  },
  {
   "cell_type": "code",
   "execution_count": 6,
   "metadata": {},
   "outputs": [],
   "source": [
    "from itertools import pairwise\n",
    "\n",
    "columns = status_0.columns"
   ]
  },
  {
   "cell_type": "code",
   "execution_count": 20,
   "metadata": {},
   "outputs": [
    {
     "name": "stdout",
     "output_type": "stream",
     "text": [
      "Concatenating blocks 7100-7200 | Total rows:  49774\r"
     ]
    }
   ],
   "source": [
    "status = pd.DataFrame([], columns=[\"station_id\", \"date\", \"bikes_available_sum\", \"bikes_available_size\", \"docks_available_sum\", \"docks_available_size\"])\n",
    "n_blocks_per_read = 100\n",
    "\n",
    "parts = []\n",
    "for span_begin, span_end in pairwise(range(0, len(status_blocks) + n_blocks_per_read, n_blocks_per_read)):\n",
    "    print(f\"Concatenating blocks {span_begin:4}-{span_end:4} | Total rows: {status.shape[0]:>6}\", end=\"\\r\")\n",
    "    tmp = pd.concat(\n",
    "        [\n",
    "            # The first file \"xaa\" has a header, we can just skip it since we already know it\n",
    "            pd.read_csv(status_file(f), names=columns, skiprows=1 if f == \"xaa\" else 0)\n",
    "            for f in status_blocks[span_begin:span_end]\n",
    "        ],\n",
    "        axis=0,\n",
    "        ignore_index=True\n",
    "    )\n",
    "\n",
    "    tmp[\"date\"] = tmp[\"time\"].map(lambda v: v.split(\" \")[0])\n",
    "    tmp = (tmp\n",
    "        .drop(\"time\", axis=1)\n",
    "        .groupby([\"station_id\", \"date\"])\n",
    "        # We have to aggregate each part with the sum\n",
    "        # (and number of values of that sum) because each block\n",
    "        # may not have all the data for each day-station pair,\n",
    "        # so we can't just do the mean yet\n",
    "        .agg([\"sum\", \"size\"])\n",
    "        .reset_index()\n",
    "    )\n",
    "    tmp.columns = tmp.columns.to_flat_index()\n",
    "    tmp.rename(inplace=True, columns={\n",
    "        (\"station_id\", \"\"): \"station_id\",\n",
    "        (\"date\", \"\"): \"date\",\n",
    "        (\"bikes_available\", \"sum\"): \"bikes_available_sum\",\n",
    "        (\"bikes_available\", \"size\"): \"bikes_available_size\",\n",
    "        (\"docks_available\", \"sum\"): \"docks_available_sum\",\n",
    "        (\"docks_available\", \"size\"): \"docks_available_size\",\n",
    "    })\n",
    "\n",
    "    status = pd.concat([status, tmp], axis=0, ignore_index=True)"
   ]
  },
  {
   "cell_type": "code",
   "execution_count": 24,
   "metadata": {},
   "outputs": [],
   "source": [
    "status[\"bikes_available_avg\"] = status[\"bikes_available_sum\"] / status[\"bikes_available_size\"]\n",
    "status[\"docks_available_avg\"] = status[\"docks_available_sum\"] / status[\"docks_available_size\"]\n",
    "status.drop(inplace=True, columns=[\"bikes_available_sum\", \"bikes_available_size\", \"docks_available_sum\", \"docks_available_size\"])"
   ]
  },
  {
   "cell_type": "code",
   "execution_count": 29,
   "metadata": {},
   "outputs": [],
   "source": [
    "status.to_csv(\"data/status_small.csv\", index=False)"
   ]
  },
  {
   "cell_type": "markdown",
   "metadata": {},
   "source": [
    "## Reading the other data"
   ]
  },
  {
   "cell_type": "code",
   "execution_count": 11,
   "metadata": {},
   "outputs": [],
   "source": [
    "station = pd.read_csv(\"data/station.csv\")\n",
    "weather = pd.read_csv(\"data/weather.csv\")\n",
    "trip = pd.read_csv(\"data/trip.csv\")"
   ]
  },
  {
   "cell_type": "code",
   "execution_count": 3,
   "metadata": {},
   "outputs": [
    {
     "data": {
      "text/plain": [
       "array([94107, 94063, 94301, 94041, 95113])"
      ]
     },
     "execution_count": 3,
     "metadata": {},
     "output_type": "execute_result"
    }
   ],
   "source": [
    "weather[\"zip_code\"].drop_duplicates().values"
   ]
  },
  {
   "cell_type": "code",
   "execution_count": 4,
   "metadata": {},
   "outputs": [],
   "source": [
    "city_zipcode_map = {\n",
    "    94107: \"San Francisco\",\n",
    "    94063: \"Redwood City\",\n",
    "    94301: \"Palo Alto\",\n",
    "    94041: \"Mountain View\",\n",
    "    95113: \"San Jose\",\n",
    "}"
   ]
  },
  {
   "cell_type": "code",
   "execution_count": 5,
   "metadata": {},
   "outputs": [
    {
     "data": {
      "text/plain": [
       "7439"
      ]
     },
     "execution_count": 5,
     "metadata": {},
     "output_type": "execute_result"
    }
   ],
   "source": [
    "trip[\"zip_code\"].drop_duplicates().count()"
   ]
  },
  {
   "cell_type": "code",
   "execution_count": 6,
   "metadata": {},
   "outputs": [
    {
     "data": {
      "text/plain": [
       "(70, 7)"
      ]
     },
     "execution_count": 6,
     "metadata": {},
     "output_type": "execute_result"
    }
   ],
   "source": [
    "station.shape"
   ]
  },
  {
   "cell_type": "code",
   "execution_count": 7,
   "metadata": {},
   "outputs": [
    {
     "data": {
      "text/plain": [
       "array(['San Jose', 'Redwood City', 'Mountain View', 'Palo Alto',\n",
       "       'San Francisco'], dtype=object)"
      ]
     },
     "execution_count": 7,
     "metadata": {},
     "output_type": "execute_result"
    }
   ],
   "source": [
    "station[\"city\"].drop_duplicates().values"
   ]
  },
  {
   "cell_type": "code",
   "execution_count": 8,
   "metadata": {},
   "outputs": [
    {
     "data": {
      "text/plain": [
       "array([nan, 'Fog', 'Rain', 'Fog-Rain', 'rain', 'Rain-Thunderstorm'],\n",
       "      dtype=object)"
      ]
     },
     "execution_count": 8,
     "metadata": {},
     "output_type": "execute_result"
    }
   ],
   "source": [
    "weather[\"events\"].drop_duplicates().values"
   ]
  }
 ],
 "metadata": {
  "kernelspec": {
   "display_name": "Python 3",
   "language": "python",
   "name": "python3"
  },
  "language_info": {
   "codemirror_mode": {
    "name": "ipython",
    "version": 3
   },
   "file_extension": ".py",
   "mimetype": "text/x-python",
   "name": "python",
   "nbconvert_exporter": "python",
   "pygments_lexer": "ipython3",
   "version": "3.10.12"
  }
 },
 "nbformat": 4,
 "nbformat_minor": 2
}
